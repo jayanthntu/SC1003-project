{
 "cells": [
  {
   "cell_type": "markdown",
   "id": "0879c163-9571-4795-aa9b-8acff33c2921",
   "metadata": {},
   "source": [
    "# Set up"
   ]
  },
  {
   "cell_type": "markdown",
   "id": "23f235e7-7f6e-47b9-b1ce-6a51a80d8993",
   "metadata": {},
   "source": [
    "Read all line of the record.csv except the first line, put it into a list --> we retrive all student\\\n",
    "We only need to solve the problem for the first 50 students a.k.a the first tutorial group. The other tutorial group can be solved by pattern recognition\\\n",
    "lst1 = lst[0:50] --> retrive the first 50 students\\\n",
    "lst1 should contains 50 strings, using the split function to make a list in lst1\n",
    "\n",
    "Pseudocode:\\\n",
    "l = []\\\n",
    "for i in lst1:\\\n",
    "    temp = i.spilt(\",\")\\\n",
    "    l.append(temp)\n",
    "\n",
    "From list l, we can retrive the information for school, gender, and GPA of each student"
   ]
  },
  {
   "cell_type": "markdown",
   "id": "a7b2bce0-fb9b-4726-9021-11a49ba697d8",
   "metadata": {},
   "source": [
    "## Decompose the problem and solve 1 by 1"
   ]
  },
  {
   "cell_type": "markdown",
   "id": "ed3fbc1e-21b3-4942-8ec3-4561987f42f8",
   "metadata": {},
   "source": [
    "1) Solve for school\n",
    "- From l, create a dictionary name \"school\" contain the school of all students (the keys are student IDS and value is school)\n",
    "- Create a list contain the existing student in the group\n",
    "  \n",
    "Pseudocode for forming a group\\\n",
    "group = []\n",
    "temp = []\n",
    "for i in range (5):\n",
    "    student_school = school.random()\n",
    "    while temp.count(student_school) == 2:\n",
    "        student_school = school.random()\n",
    "    temp.append (school)\n",
    "    group.append(studentID)"
   ]
  },
  {
   "cell_type": "markdown",
   "id": "d7dcae1b-6c11-442a-abd8-7ac67f4dd35f",
   "metadata": {},
   "source": [
    "2) Solve for gender\n",
    "- Same as school, we create a dictionary name \"gender\" contain the keys which is student ID and value is gender\n",
    "- A group should have no more than 3 boys or girls --> we can do the same pseudocode like the school"
   ]
  },
  {
   "cell_type": "markdown",
   "id": "aa6f5195-1746-4427-a9b0-ba5829d1b71f",
   "metadata": {},
   "source": [
    "3) Solve for GPA\n",
    "- First, we retrive all GPA from list l to a dictionary called \"GPA\". The keys are student IDs and the values are GPA\n",
    "- Then we sort the dictionary base on value (GPA) and divide into 5 GPA groups\n",
    "- After that, we randomly take 1 student from each GPA group and put them into a group --> the GPA will be diverse\n",
    "\n",
    "Pseudocode:\\\n",
    "sorted_GPA1 = sorted_GPA[0:10]\\\n",
    "...\\\n",
    "sorted_GPA5 = sorted_GPA[40:50]\\\n",
    "team =[]\n",
    "team.append(GPA1.random())\n",
    "...\n",
    "team.append(GPA2.random())\n",
    "Then we find the student ID and pop the element in the GPA dictionary"
   ]
  },
  {
   "cell_type": "markdown",
   "id": "6b53cdfb-bfdb-4ed2-887d-b9422201efe3",
   "metadata": {},
   "source": [
    "## Combine together"
   ]
  },
  {
   "cell_type": "markdown",
   "id": "92777ede-735a-4232-b9fa-bee2f6eee129",
   "metadata": {},
   "source": [
    "team = []\n",
    "temp_team = []\n",
    "temp_school = []\n",
    "temp_gender = []\n",
    "\n",
    "random a student from the GPA groups\n",
    "temp_school.append and check conditions\n",
    "temp_gender.append and check conditions\n",
    "if all conditions satisfy, add the student to temp_team\n",
    "when temp_team == 5:\n",
    "add the temp_team to team\n",
    "team.append(temp_team)\n",
    "clear the 3 other temp list\n",
    "\n",
    "Repeat until we have 10 teams --> finish the first tutorial group\n"
   ]
  }
 ],
 "metadata": {
  "kernelspec": {
   "display_name": "Python 3 (ipykernel)",
   "language": "python",
   "name": "python3"
  },
  "language_info": {
   "codemirror_mode": {
    "name": "ipython",
    "version": 3
   },
   "file_extension": ".py",
   "mimetype": "text/x-python",
   "name": "python",
   "nbconvert_exporter": "python",
   "pygments_lexer": "ipython3",
   "version": "3.13.6"
  }
 },
 "nbformat": 4,
 "nbformat_minor": 5
}
